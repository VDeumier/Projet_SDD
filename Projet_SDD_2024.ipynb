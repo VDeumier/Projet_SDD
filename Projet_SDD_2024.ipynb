{
 "cells": [
  {
   "cell_type": "markdown",
   "id": "feecd485-3bce-4b2d-aabf-78ba4281daf6",
   "metadata": {},
   "source": [
    "# Projet numérique de science des données - DEUMIER Valentin et BOUQUET Quentin"
   ]
  },
  {
   "cell_type": "markdown",
   "id": "7f78c25a-0309-41d4-96f0-0fef158a310d",
   "metadata": {},
   "source": [
    "## Introduction au projet\n",
    "\n",
    "Il s'agit de construire un modèle prédisant le type de couvert végétal d'une parcelle de forêt (carré de 30m x 30m) à partir d'informations cartographiques décrivant cette parcelle.\n",
    "\n",
    "Le but final sera d'appliquer ce modèle pour faire des prédictions pour des données pour lesquelles vous ne disposez pas d'une étiquette. __La note finale portera largement plus sur votre démarche (notebook et ses commentaires) que sur la qualité de vos prédictions.__ \n",
    "\n",
    "__Consignes :__ \n",
    "* Déclarez votre binôme en vous inscrivant dans un groupe de rendu de projet [sur Moodle](https://moodle.psl.eu/course/view.php?id=22890) afin de récupérer le fichier pour lequel vous devrez faire des prédictions.\n",
    "* Vous devrez rendre, par groupe de projet :\n",
    "    * un notebook jupyter\n",
    "    * un fichier de prédictions (voir plus bas pour le format)\n",
    "* __Renseignez vos noms & prénoms__ dans le titre du notebook\n",
    "* Vous avez jusqu'au __5 juillet midi heure de Paris__\n",
    "* Déposez vos fichiers [sur Moodle](https://moodle.psl.eu/course/view.php?id=22890) dans la section dédiée (un seul rendu par binôme est nécessaire).\n",
    "\n",
    "__Déroulé :__\n",
    "* Les séances du lundi 17/06 (10h45-12h15) et lundi 01/07 (10h45-12h15) sont dédiées au projet numérique. Faites-en bon usage.\n",
    "* Certaines sections font appel à des notions qui n'auront pas encore été vues le 17/06 ; c'est indiqué le cas échéant."
   ]
  },
  {
   "cell_type": "markdown",
   "id": "cb288764-59e9-4036-941a-f19c0bfb0d5f",
   "metadata": {},
   "source": [
    "## Données"
   ]
  },
  {
   "cell_type": "markdown",
   "id": "baa86fdc-d147-4a2c-b95f-8e871d9aef41",
   "metadata": {},
   "source": [
    "### Description des données \n",
    "Le dossier `data/` contient un jeu de données nommé `couvert_vegetal_public.tsv`. Il contient les données étiquetées à partir desquelles construire votre modèle.\n",
    "\n",
    "Chaque ligne dans les données correspond à un carré de 30 m x 30m, décrit par les variables suivantes :\n",
    "* variables continues :\n",
    "  * `altitude` : altitude en mètres\n",
    "  * `pente` : pente en degrés\n",
    "  * `distance_horizontale_hydro` : distance horizontale au point d'eau le plus proche (en mètres)\n",
    "  * `distance_verticale_hydro` : distance verticale au point d'eau le plus proche (en mètres)\n",
    "  * `distance_horizontale_route` : distance horizontale à la route la plus proche (en mètres)\n",
    "  * `ombrage_0900` : index d'ombrages à 9h du matin, au solstice, sur une échelle de 0 à 255\n",
    "  * `ombrage_1200` : index d'ombrages à midi, au solstice, sur une échelle de 0 à 255\n",
    "  * `ombrage_1500` : index d'ombrages à 15h, au solstice, sur une échelle de 0 à 255\n",
    "  * `distance_horizontale_depart_feu` : distance horizontale au départ de feu de forêt le plus proche (en mètres)\n",
    "* variables binaires\n",
    "  * `zone_A` : 0 ou 1, selon si la parcelle appartient à une zone géographique A ou non\n",
    "  * `couvert` (étiquette) : nature du couvert végétal (0 = sapin ou épicéa ; 1 = pin tordu)"
   ]
  },
  {
   "cell_type": "markdown",
   "id": "d5acb7d6-6fdd-4768-80e2-e02837c26b4e",
   "metadata": {},
   "source": [
    "### Chargement des données étiquetées"
   ]
  },
  {
   "cell_type": "code",
   "execution_count": 1,
   "id": "fa0c0bb5-d9c9-47a9-a809-e5eb710c4736",
   "metadata": {},
   "outputs": [],
   "source": [
    "import numpy as np\n",
    "import matplotlib\n",
    "import matplotlib.pyplot as plt"
   ]
  },
  {
   "cell_type": "code",
   "execution_count": 2,
   "id": "3a0412f2-5a9f-4e5d-8aee-7c1134b4c838",
   "metadata": {},
   "outputs": [],
   "source": [
    "import pandas as pd"
   ]
  },
  {
   "cell_type": "code",
   "execution_count": 6,
   "id": "69edf1e1-adbd-4757-be93-f06adcdea3f3",
   "metadata": {},
   "outputs": [],
   "source": [
    "df_prive_3 = pd.read_csv('couvert_vegetal_prive_3.tsv', delimiter='\\t')"
   ]
  },
  {
   "cell_type": "code",
   "execution_count": 7,
   "id": "cdba39d5-f457-43f8-849b-fb01b77e5210",
   "metadata": {},
   "outputs": [
    {
     "data": {
      "text/html": [
       "<div>\n",
       "<style scoped>\n",
       "    .dataframe tbody tr th:only-of-type {\n",
       "        vertical-align: middle;\n",
       "    }\n",
       "\n",
       "    .dataframe tbody tr th {\n",
       "        vertical-align: top;\n",
       "    }\n",
       "\n",
       "    .dataframe thead th {\n",
       "        text-align: right;\n",
       "    }\n",
       "</style>\n",
       "<table border=\"1\" class=\"dataframe\">\n",
       "  <thead>\n",
       "    <tr style=\"text-align: right;\">\n",
       "      <th></th>\n",
       "      <th>altitude</th>\n",
       "      <th>pente</th>\n",
       "      <th>distance_horizontale_hydro</th>\n",
       "      <th>distance_verticale_hydro</th>\n",
       "      <th>distance_horizontale_route</th>\n",
       "      <th>ombrage_0900</th>\n",
       "      <th>ombrage_1200</th>\n",
       "      <th>ombrage_1500</th>\n",
       "      <th>distance_horizontale_depart_feu</th>\n",
       "      <th>zone_A</th>\n",
       "    </tr>\n",
       "  </thead>\n",
       "  <tbody>\n",
       "    <tr>\n",
       "      <th>0</th>\n",
       "      <td>2913</td>\n",
       "      <td>12</td>\n",
       "      <td>240</td>\n",
       "      <td>-24</td>\n",
       "      <td>5468</td>\n",
       "      <td>211</td>\n",
       "      <td>215</td>\n",
       "      <td>139</td>\n",
       "      <td>3846</td>\n",
       "      <td>1</td>\n",
       "    </tr>\n",
       "    <tr>\n",
       "      <th>1</th>\n",
       "      <td>2543</td>\n",
       "      <td>4</td>\n",
       "      <td>242</td>\n",
       "      <td>30</td>\n",
       "      <td>642</td>\n",
       "      <td>224</td>\n",
       "      <td>231</td>\n",
       "      <td>142</td>\n",
       "      <td>5415</td>\n",
       "      <td>1</td>\n",
       "    </tr>\n",
       "    <tr>\n",
       "      <th>2</th>\n",
       "      <td>2831</td>\n",
       "      <td>22</td>\n",
       "      <td>135</td>\n",
       "      <td>41</td>\n",
       "      <td>4484</td>\n",
       "      <td>249</td>\n",
       "      <td>222</td>\n",
       "      <td>89</td>\n",
       "      <td>4943</td>\n",
       "      <td>1</td>\n",
       "    </tr>\n",
       "    <tr>\n",
       "      <th>3</th>\n",
       "      <td>2627</td>\n",
       "      <td>10</td>\n",
       "      <td>300</td>\n",
       "      <td>18</td>\n",
       "      <td>973</td>\n",
       "      <td>231</td>\n",
       "      <td>221</td>\n",
       "      <td>123</td>\n",
       "      <td>5562</td>\n",
       "      <td>1</td>\n",
       "    </tr>\n",
       "    <tr>\n",
       "      <th>4</th>\n",
       "      <td>2706</td>\n",
       "      <td>5</td>\n",
       "      <td>339</td>\n",
       "      <td>21</td>\n",
       "      <td>1827</td>\n",
       "      <td>228</td>\n",
       "      <td>233</td>\n",
       "      <td>140</td>\n",
       "      <td>6108</td>\n",
       "      <td>1</td>\n",
       "    </tr>\n",
       "  </tbody>\n",
       "</table>\n",
       "</div>"
      ],
      "text/plain": [
       "   altitude  pente  distance_horizontale_hydro  distance_verticale_hydro  \\\n",
       "0      2913     12                         240                       -24   \n",
       "1      2543      4                         242                        30   \n",
       "2      2831     22                         135                        41   \n",
       "3      2627     10                         300                        18   \n",
       "4      2706      5                         339                        21   \n",
       "\n",
       "   distance_horizontale_route  ombrage_0900  ombrage_1200  ombrage_1500  \\\n",
       "0                        5468           211           215           139   \n",
       "1                         642           224           231           142   \n",
       "2                        4484           249           222            89   \n",
       "3                         973           231           221           123   \n",
       "4                        1827           228           233           140   \n",
       "\n",
       "   distance_horizontale_depart_feu  zone_A  \n",
       "0                             3846       1  \n",
       "1                             5415       1  \n",
       "2                             4943       1  \n",
       "3                             5562       1  \n",
       "4                             6108       1  "
      ]
     },
     "execution_count": 7,
     "metadata": {},
     "output_type": "execute_result"
    }
   ],
   "source": [
    "df_prive_3.head()"
   ]
  },
  {
   "cell_type": "markdown",
   "id": "be19ddec-b4e8-48d4-bbaf-3a928467b6dc",
   "metadata": {},
   "source": [
    "### Visualisation des variables\n",
    "\n",
    "#### Question 1\n",
    "Visualisez chacun des descripteurs (_features_) sous la forme de deux histogrammes superposés (grâce à [pyplot.hist](https://matplotlib.org/stable/api/_as_gen/matplotlib.pyplot.hist.html)), l'un correspondant aux observations de la classe positive, l'autre correspondant aux observations de la classe négative\n",
    "\n",
    "__Conseils :__\n",
    "* utilisez `df_public.loc[df_public[\"couvert\"]==1]` pour obtenir les lignes de `df_public` pour lesquelles `couvert` vaut `1`.\n",
    "* utilisez l'argument `alpha` de `plt.hist` pour rendre vos histogrammes transparents."
   ]
  },
  {
   "cell_type": "code",
   "execution_count": 16,
   "id": "cabee5e4",
   "metadata": {},
   "outputs": [
    {
     "data": {
      "text/plain": [
       "[]"
      ]
     },
     "execution_count": 16,
     "metadata": {},
     "output_type": "execute_result"
    },
    {
     "data": {
      "image/png": "[encoded data removed]",
      "text/plain": [
       "<Figure size 640x480 with 1 Axes>"
      ]
     },
     "metadata": {},
     "output_type": "display_data"
    },
    {
     "data": {
      "image/png": "[encoded data removed]",
      "text/plain": [
       "<Figure size 640x480 with 1 Axes>"
      ]
     },
     "metadata": {},
     "output_type": "display_data"
    },
    {
     "data": {
      "image/png": "[encoded data removed]",
      "text/plain": [
       "<Figure size 640x480 with 1 Axes>"
      ]
     },
     "metadata": {},
     "output_type": "display_data"
    },
    {
     "data": {
      "image/png": "[encoded data removed]",
      "text/plain": [
       "<Figure size 640x480 with 1 Axes>"
      ]
     },
     "metadata": {},
     "output_type": "display_data"
    },
    {
     "data": {
      "image/png": "[encoded data removed]",
      "text/plain": [
       "<Figure size 640x480 with 1 Axes>"
      ]
     },
     "metadata": {},
     "output_type": "display_data"
    },
    {
     "data": {
      "image/png": "[encoded data removed]",
      "text/plain": [
       "<Figure size 640x480 with 1 Axes>"
      ]
     },
     "metadata": {},
     "output_type": "display_data"
    },
    {
     "data": {
      "image/png": "[encoded data removed]",
      "text/plain": [
       "<Figure size 640x480 with 1 Axes>"
      ]
     },
     "metadata": {},
     "output_type": "display_data"
    },
    {
     "data": {
      "image/png": "[encoded data removed]",
      "text/plain": [
       "<Figure size 640x480 with 1 Axes>"
      ]
     },
     "metadata": {},
     "output_type": "display_data"
    },
    {
     "data": {
      "image/png": "[encoded data removed]",
      "text/plain": [
       "<Figure size 640x480 with 1 Axes>"
      ]
     },
     "metadata": {},
     "output_type": "display_data"
    }
   ],
   "source": [
    "df1 = df_prive_3.loc[df_prive_3[\"zone_A\"] == 1]\n",
    "df0 = df_prive_3.loc[df_prive_3[\"zone_A\"] == 0]\n",
    "\n",
    "columns = df_prive_3.columns.values[:-1]\n",
    "for column in columns:\n",
    "    plt.figure()\n",
    "    plt.hist(df1[column], bins = 100, alpha = 0.5, label = 'Zone A')\n",
    "    plt.hist(df0[column], bins = 100, alpha = 0.5, label = 'Zone B')\n",
    "    plt.legend()\n",
    "    plt.title(column)\n",
    "plt.plot()\n"
   ]
  },
  {
   "cell_type": "markdown",
   "id": "1244aac7-b2ca-49ed-ae65-8b989e973cb2",
   "metadata": {},
   "source": [
    "#### Question 2\n",
    "Pensez-vous qu'il va être aisé de distinguer les deux classes ?"
   ]
  },
  {
   "cell_type": "code",
   "execution_count": null,
   "id": "a8f1e5d7-0de2-481e-a5ec-47f36fc866b0",
   "metadata": {},
   "outputs": [],
   "source": []
  },
  {
   "cell_type": "markdown",
   "id": "d8b9d8ab-2517-45a4-af6f-14b8522dda88",
   "metadata": {},
   "source": [
    "### Visualisation en 2D\n",
    "\n",
    "Commençons par extraire la matrice de design `X_public` (numpy.array) de `df_public` :"
   ]
  },
  {
   "cell_type": "code",
   "execution_count": null,
   "id": "8803085f-ccdc-42a9-b03e-c6d1bb226dea",
   "metadata": {},
   "outputs": [],
   "source": [
    "# Extraction de la matrice de design\n",
    "X_public = np.array(df_public.drop(columns=[\"couvert\"]))"
   ]
  },
  {
   "cell_type": "markdown",
   "id": "c3005453-8cd7-4d23-9823-f52c2be365af",
   "metadata": {},
   "source": [
    "#### Question 3\n",
    "a) Utilisez une ACP pour visualiser les données en deux dimensions. Plus précisément : utilisez une ACP des descripteurs (_features_) pour représenter les observations sous la forme d'un nuage de points en 2D, et colorez les points selon leur étiquette.\n",
    "\n",
    "b) À quelle point cette ACP est-elle une représentation fidèle des données ? \n",
    "\n",
    "c) Pensez-vous maintenant qu'il va être aisé de distinguer les deux classes ? Pourquoi ?"
   ]
  },
  {
   "cell_type": "code",
   "execution_count": null,
   "id": "5cb01e63-fee6-4fb9-9f0b-c4795d0a00e8",
   "metadata": {},
   "outputs": [],
   "source": []
  },
  {
   "cell_type": "markdown",
   "id": "a57e5986-6cb1-4f28-8c87-a6618a4ecb2d",
   "metadata": {},
   "source": [
    "## [À partir de la PC 3] Apprentissage supervisé"
   ]
  },
  {
   "cell_type": "markdown",
   "id": "716a5c17-ca67-429a-8594-924c7e30fcc1",
   "metadata": {},
   "source": [
    "Nous allons maintenant avoir besoin du vecteur d'étiquettes `y_public` sous forme d'array numpy :"
   ]
  },
  {
   "cell_type": "code",
   "execution_count": null,
   "id": "df192cce-cab9-4137-8c6e-6995626159d7",
   "metadata": {},
   "outputs": [],
   "source": [
    "y_public = np.array(df_public[\"couvert\"])"
   ]
  },
  {
   "cell_type": "markdown",
   "id": "988f563b-90ad-40d3-b4c5-0f17ea596e55",
   "metadata": {},
   "source": [
    "### Quantification des performances"
   ]
  },
  {
   "cell_type": "markdown",
   "id": "e7e1111b-8073-4618-9407-c09b86c0fce5",
   "metadata": {},
   "source": [
    "Il existe de nombreux scores permettant d'évaluer les performances d'un algorithme de classification. Toutes celles implémentées dans scikit-learn sont listées [ici](https://scikit-learn.org/stable/modules/model_evaluation.html#classification-metrics).\n",
    "\n",
    "Dans ce projet, nous allons utiliser la **proportion d'observations correctement classifiées**, ou _accuracy_ en anglais (à ne pas confondre avec la _precision_). Elle est implémentée par [metrics.accuracy_score](https://scikit-learn.org/stable/modules/generated/sklearn.metrics.accuracy_score.html) dans scikit-learn."
   ]
  },
  {
   "cell_type": "markdown",
   "id": "6308b54e-d3fe-452e-ba1e-55938bd86c73",
   "metadata": {},
   "source": [
    "#### Question 4\n",
    "\n",
    "a) Quel serait sur nos données l'accuracy d'un modèle naïf prédisant systématiquement la classe 1 ?\n",
    "\n",
    "b) Supposons maintenant que le jeu de données sur lequel on évalue ce même modèle naïf comporte 9 fois plus d'exemples de la classe 1 que de la classe 0 (90% de `1`, 10% de `0`). Quel serait alors son accuracy ?\n",
    "\n",
    "c) Quelle serait la [balanced accuracy](https://scikit-learn.org/stable/modules/model_evaluation.html#balanced-accuracy-score) du modèle naïf sur le jeu de données de la question b) ?"
   ]
  },
  {
   "cell_type": "code",
   "execution_count": null,
   "id": "5e932132-30b4-41fc-83de-ebbd95e01d54",
   "metadata": {},
   "outputs": [],
   "source": []
  },
  {
   "cell_type": "markdown",
   "id": "f2d35f3f-44a3-42fd-af8d-a4ca735f8481",
   "metadata": {},
   "source": [
    "### Algorithme des 7 plus proches voisins"
   ]
  },
  {
   "cell_type": "markdown",
   "id": "cc4d9343-874b-4bfe-bd43-5425bea7a283",
   "metadata": {},
   "source": [
    "Nous n'avons pas encore vu d'algorithme permettant d'entraîner un modèle de classification. Nous allons donc commencer avec un modèle simple : celui des __k plus proches voisins__ (ou __kNN__, pour _k nearest neighbors_).\n",
    "\n",
    "Dans ce modèle, la valeur de la fonction de décision en x est la proportion d'individus d'étiquette positive parmi les k plus proches voisins de x au sein des points du jeu d'entraînement ; k est fixé."
   ]
  },
  {
   "cell_type": "markdown",
   "id": "0feba580-94d6-4b39-bd87-faa8382ac6ca",
   "metadata": {},
   "source": [
    "Nous allons commencer par utiliser un algorithme des k plus proches voisins avec k fixé à k=7."
   ]
  },
  {
   "cell_type": "markdown",
   "id": "ba237112-8c6c-4bc5-8e2e-4f8e936f01f9",
   "metadata": {},
   "source": [
    "#### Question 5\n",
    "\n",
    "a) Utilisez la classe `KNeighborsClassifier` du module `neighbors` de `sklearn` pour entraîner un modèle avec l'algorithme des 7 plus proches voisins sur les données `(X_public, y_public)`.\n",
    "\n",
    "Documentation : [sklearn.neighbors.KNeighborsClassifier](https://scikit-learn.org/stable/modules/generated/sklearn.neighbors.KNeighborsClassifier.html)\n",
    "\n",
    "b) Quelle est l'accuracy de ce modèle sur le jeu ayant servi à l'entraîner ?"
   ]
  },
  {
   "cell_type": "code",
   "execution_count": null,
   "id": "c2ed7a09-8f7b-477d-bbca-a01d3d3feb04",
   "metadata": {},
   "outputs": [],
   "source": [
    "from sklearn import metrics, neighbors"
   ]
  },
  {
   "cell_type": "code",
   "execution_count": null,
   "id": "341eb1c7-4fe5-448b-a306-bda63968a744",
   "metadata": {},
   "outputs": [],
   "source": []
  },
  {
   "cell_type": "markdown",
   "id": "1e60bc8d-261e-4126-b0af-dc154828d828",
   "metadata": {},
   "source": [
    "#### Pré-traitement des données"
   ]
  },
  {
   "cell_type": "markdown",
   "id": "58970697-c109-4c8e-9cef-039182dd97f3",
   "metadata": {},
   "source": [
    "#### Question 6\n",
    "\n",
    "Les variables du jeu de données prennent des valeurs sur des échelles différentes (voir par exemple `pente` vs `distance_horizontale_route` vs `zone_A`).\n",
    "\n",
    "a) Quel effet cela peut-il avoir sur le calcul des plus proches voisins ?\n",
    "\n",
    "b) Proposez et implémentez un pré-traitement permettant de remédier à ce problème : créez une nouvelle représentation des données publiques `X_public_preprocessed`, entraînez un algorithme des 7 plus proches voisins, et évaluez sa performance sur le jeu d'entraînement. "
   ]
  },
  {
   "cell_type": "code",
   "execution_count": null,
   "id": "1c45b3e6-647b-4904-958d-26ab590212d3",
   "metadata": {},
   "outputs": [],
   "source": []
  },
  {
   "cell_type": "markdown",
   "id": "df2b4e54-9320-428c-9d91-95f3d3eaff69",
   "metadata": {},
   "source": [
    "#### Pré-traitement des données"
   ]
  },
  {
   "cell_type": "markdown",
   "id": "209be7d5-307b-42fb-85be-2982e658f892",
   "metadata": {},
   "source": [
    "#### Question 6\n",
    "\n",
    "Les variables du jeu de données prennent des valeurs sur des échelles différentes (voir par exemple `pente` vs `distance_horizontale_route` vs `zone_A`).\n",
    "\n",
    "a) Quel effet cela peut-il avoir sur le calcul des plus proches voisins ?\n",
    "\n",
    "b) Proposez et implémentez un pré-traitement permettant de remédier à ce problème : créez une nouvelle représentation des données publiques `X_public_preprocessed`, entraînez un algorithme des 7 plus proches voisins, et évaluez sa performance sur le jeu d'entraînement. "
   ]
  },
  {
   "cell_type": "code",
   "execution_count": null,
   "id": "414ac049-9e55-44ac-813b-8dec3df79f56",
   "metadata": {},
   "outputs": [],
   "source": []
  },
  {
   "cell_type": "markdown",
   "id": "f51a68b5-ea91-496a-ae21-4ffb22ed7d54",
   "metadata": {},
   "source": [
    "### [À partir de l'Amphi 6 / PC4] Mise en place d'une validation croisée "
   ]
  },
  {
   "cell_type": "markdown",
   "id": "8cb4b367-e107-4f12-af99-4e29de1e55bb",
   "metadata": {},
   "source": [
    "Nous allons maintenant mettre en place une procédure de validation croisée pour évaluer/comparer différents modèles. Plus précisément, nous fixons le découpage du jeu de données en 5 _folds_, que nous réutiliserons pour chaque évaluation dans ce qui suit :"
   ]
  },
  {
   "cell_type": "code",
   "execution_count": null,
   "id": "3d3e9c3d-c9f7-4fe0-aea3-500013ec9018",
   "metadata": {},
   "outputs": [],
   "source": [
    "from sklearn import model_selection"
   ]
  },
  {
   "cell_type": "code",
   "execution_count": null,
   "id": "2fe97dc3-8fff-4120-98ef-b089c7674e0a",
   "metadata": {},
   "outputs": [],
   "source": [
    "n_folds = 5\n",
    "kf = model_selection.KFold(n_splits=n_folds, shuffle=True, random_state=42)"
   ]
  },
  {
   "cell_type": "code",
   "execution_count": null,
   "id": "b607f535-8c03-46fa-839c-3c1db5111b3e",
   "metadata": {},
   "outputs": [],
   "source": []
  },
  {
   "cell_type": "markdown",
   "id": "b63075f3-78f8-4c14-a515-1712d7ecb0f0",
   "metadata": {},
   "source": [
    "### Algorithme des k plus proches voisins"
   ]
  },
  {
   "cell_type": "markdown",
   "id": "fb9ca92d-5c76-46a0-87e1-2a075ca11c09",
   "metadata": {},
   "source": [
    "#### Question 8 \n",
    "\n",
    "a) Utilisez `kf` pour évaluer l'accuracy en validation croisée de l'algorithme des 7 plus proches voisins. \n",
    "\n",
    "b) Comparez à l'accuracy obtenue sur le jeu d'entraînement ; commentez."
   ]
  },
  {
   "cell_type": "code",
   "execution_count": null,
   "id": "237b7f66-677b-4081-9e25-2f6382994f05",
   "metadata": {},
   "outputs": [],
   "source": []
  },
  {
   "cell_type": "markdown",
   "id": "da31c487-49ac-48c9-92af-37d87d40a41a",
   "metadata": {},
   "source": [
    "#### Question 9\n",
    "\n",
    "a) Évaluez la performance en validation croisée de l'algorithmes des k plus proches voisins, pour k variant de 1 à 19. Faites un graphe pour présenter les résultats.\n",
    "\n",
    "b) Quelle valeur de k sélectionner pour faire des prédictions sur de nouvelles données ?"
   ]
  },
  {
   "cell_type": "code",
   "execution_count": null,
   "id": "a9f10f9b-11b5-4b6f-9214-4f59bbcbf51b",
   "metadata": {},
   "outputs": [],
   "source": []
  },
  {
   "cell_type": "markdown",
   "id": "2fc1183f-80af-4dfb-9dc6-924067886cb6",
   "metadata": {},
   "source": [
    "### Modèle linéaire "
   ]
  },
  {
   "cell_type": "markdown",
   "id": "39d8de5b-d026-4fba-8ddf-2d84c22d3e0d",
   "metadata": {},
   "source": [
    "#### Question 10\n",
    "\n",
    "Évaluez l'accuracy en validation croisée d'une régression logistique sur le jeu d'entraînement. Sélectionnez le ou les hyperparamètres pertinents si nécessaire.\n",
    "\n",
    "Comparez à l'accuracy du modèle de k plus proches voisins.\n",
    "\n",
    "Documentation : [sklearn.linear_model.LogisticRegression](https://scikit-learn.org/stable/modules/generated/sklearn.linear_model.LogisticRegression.html)"
   ]
  },
  {
   "cell_type": "code",
   "execution_count": null,
   "id": "c94f6f84-1c7a-49cb-bc0b-3a0a64ab9ce0",
   "metadata": {},
   "outputs": [],
   "source": [
    "from sklearn import linear_model"
   ]
  },
  {
   "cell_type": "code",
   "execution_count": null,
   "id": "a94b8f25-ed98-4135-927c-49bfd23a1b6f",
   "metadata": {},
   "outputs": [],
   "source": []
  },
  {
   "cell_type": "markdown",
   "id": "b896fd33-c766-44d4-ba38-44daf68b6951",
   "metadata": {},
   "source": [
    "### [À partir de l'Amphi 8] Modèle non-linéaire"
   ]
  },
  {
   "cell_type": "markdown",
   "id": "dc47a82e-aeb5-4a53-9a4c-11b19cbc6dda",
   "metadata": {},
   "source": [
    "#### Question 11\n",
    "\n",
    "Choisissez un algorithme permettant d'apprendre un modèle de classification non-linéaire.\n",
    "\n",
    "Évaluez son accuracy en validation croisée sur le jeu d'entraînement. Sélectionnez le ou les hyperparamètres pertinents si nécessaire.\n",
    "\n",
    "Comparez aux accuracies obtenues jusqu'à présent."
   ]
  },
  {
   "cell_type": "code",
   "execution_count": null,
   "id": "2c7ef9cc-afaf-437c-af91-30fede5ab069",
   "metadata": {},
   "outputs": [],
   "source": []
  },
  {
   "cell_type": "markdown",
   "id": "bae48af5-b254-4934-81c3-593551d4b6aa",
   "metadata": {},
   "source": [
    "### Choix du modèle final"
   ]
  },
  {
   "cell_type": "markdown",
   "id": "77867f19-4bde-4e3a-a0f0-2600d4012746",
   "metadata": {},
   "source": [
    "#### Question 12\n",
    "Étant donné le travail mené jusqu'à présent :\n",
    "\n",
    "a) Quel algorithme d'apprentissage, avec quel(s) hyperparamètres, choisissez-vous pour apprendre votre modèle final ? \n",
    "\n",
    "b) Utilisez cet algorithme avec cet/ces hyperparamètres pour entraîner un  modèle `predictor_final` sur l'ensemble des données étiquetées. N'oubliez pas le pré-traitement si nécessaire."
   ]
  },
  {
   "cell_type": "code",
   "execution_count": null,
   "id": "5d256e45-378c-4d71-994d-491408167a4c",
   "metadata": {},
   "outputs": [],
   "source": []
  },
  {
   "cell_type": "markdown",
   "id": "87fb4a57-865f-4339-a0ad-3cf9cd3e82c2",
   "metadata": {},
   "source": [
    "## Prédictions"
   ]
  },
  {
   "cell_type": "markdown",
   "id": "839a9e3d-79c8-49ca-800e-99ed5662d43e",
   "metadata": {},
   "source": [
    "Vous recevrez après avoir déclaré votre binôme un jeu de données nommé `couvert_vegetal_prive_<n>.tsv` (ou `<n>` sera un numéro arbitraire). Il contient les données non-étiquetées, pour lesquelles faire vos prédictions. Le format est le même que pour `couvert_vegetal_public.tsv`, à l'exception de la variable `couvert`, que vous devrez prédire."
   ]
  },
  {
   "cell_type": "markdown",
   "id": "e24d4c42-b982-4c07-a0f6-a02e7f4078c8",
   "metadata": {},
   "source": [
    "### Charger les données"
   ]
  },
  {
   "cell_type": "markdown",
   "id": "d93219a7-d088-41b2-a6e3-5968283adcc4",
   "metadata": {},
   "source": [
    "Vous pouvez maintenant charger le jeu de données externe (en remplaçant `1` par le bon numéro) :"
   ]
  },
  {
   "cell_type": "code",
   "execution_count": null,
   "id": "bf4a4b1f-57dd-41c1-995b-8f9616b1b1cc",
   "metadata": {},
   "outputs": [],
   "source": [
    "df_private = pd.read_csv('data/couvert_vegetal_prive_1.tsv', delimiter='\\t')\n",
    "X_private = np.array(df_private)"
   ]
  },
  {
   "cell_type": "markdown",
   "id": "9f7f7b5f-0681-4f13-890b-34cf0f2da4be",
   "metadata": {},
   "source": [
    "### Prédictions\n",
    "\n",
    "#### Question 13\n",
    "Utilisez `predictor_final` pour prédire les étiquettes des observations de `X_private`.  N'oubliez pas le pré-traitement si nécessaire. Enregistrez le résultat dans un array `y_pred_final`."
   ]
  },
  {
   "cell_type": "code",
   "execution_count": null,
   "id": "5022eeaa-935f-4258-a5e7-5ef18c5efc5a",
   "metadata": {},
   "outputs": [],
   "source": []
  },
  {
   "cell_type": "markdown",
   "id": "303ba572-8543-4986-a026-fe4dc4583d0d",
   "metadata": {},
   "source": [
    "Vous pouvez maintenant utiliser le code suivant pour générer votre fichier de prédictions :"
   ]
  },
  {
   "cell_type": "code",
   "execution_count": null,
   "id": "0189d2cf-692d-44e2-93ef-dfeb4cec8398",
   "metadata": {},
   "outputs": [],
   "source": [
    "np.savetxt(\"test_file.tsv\", \n",
    "           y_pred_final,\n",
    "           fmt=('%d'), \n",
    "           header='Prediction',\n",
    "           delimiter='\\t', comments=\"\")"
   ]
  },
  {
   "cell_type": "markdown",
   "id": "20985916-66b3-4076-a508-29367f516c65",
   "metadata": {},
   "source": [
    "__Attention !__ Si vous ouvrez ce fichier avec un programme externe type Microsoft Excel ou LibreOffice Calc pour le lire, il est possible que ce programme modifie le fichier sans que vous ne le réalisiez. Préférez utiliser un éditeur de texte simple, ou une commande bash type `less` ou `cat` ; ou alors assurez-vous de relancer la commande avant de soumettre vos prédictions."
   ]
  },
  {
   "cell_type": "markdown",
   "id": "509346bf-157b-43f7-bab6-6b197244ead8",
   "metadata": {},
   "source": [
    "## Pour aller plus loin"
   ]
  },
  {
   "cell_type": "markdown",
   "id": "25bc5c9e-eace-43bf-817f-f2cbec7a354d",
   "metadata": {},
   "source": [
    "#### Bonus 1\n",
    "\n",
    "Ajoutez le jeu de test à la visualisation de la question 3. Pensez-vous que les performances de votre modèle sur le jeu de test vont être\n",
    "* aussi bonnes qu'en validation croisée sur le jeu d'entraînement ?\n",
    "* meilleures ?\n",
    "* moins bonnes ?"
   ]
  },
  {
   "cell_type": "markdown",
   "id": "f69d7746-8cb2-42b6-b832-c993345c8069",
   "metadata": {},
   "source": [
    "#### Bonus 2\n",
    "La plupart des modèles de classification binaire retournent la valeur 0 ou 1 après seuillage d'un score qui est d'autant plus élevé que la probabilité que l'étiquette soit 1 est grande. (Certains algorithmes, comme la régression logistique, modélisent directement cette probabilité. D'autres, comme les SVM, retournent un score qui peut dépasser 1.) \n",
    "\n",
    "Ainsi peut se poser la question du choix du seuil à utiliser (par défaut, 0.5 quand on modélise une probabilité).\n",
    "\n",
    "La **courbe ROC** fait partie des outils qui permettent de visualiser la performance d'un modèle _pour tous les seuils possibles_.\n",
    "    \n",
    "Dans scikit-learn, les méthodes `predict_proba()` retournent des prédictions non seuillés, tandis que les méthodes `predict()` retournent des prédictions binaires obtenues après seuillage. L'affichage des courbes ROC se fait grâce au module [metrics.plot_roc_curve](https://scikit-learn.org/stable/modules/generated/sklearn.metrics.plot_roc_curve.html).\n",
    "\n",
    "Affichez (sur le même graphique) et comparez les courbes ROC pour les prédictions en validation croisée obtenues pour les différents modèles."
   ]
  },
  {
   "cell_type": "markdown",
   "id": "d260d0a3-2ffc-44c1-87e6-2d016c8fab07",
   "metadata": {},
   "source": [
    "#### Bonus 3\n",
    "\n",
    "Pour aller plus loin dans la visualisation des données :\n",
    "* visualisez plus de 2 composantes principales, toujours par paires (PC3 vs PC1, PC3 vs PC2, etc.). Les classes vous semblent-elles facilement séparables ?\n",
    "* visualisez et interprétez la contribution de chacune des variables à chaque composante principale. "
   ]
  },
  {
   "cell_type": "markdown",
   "id": "9904f406-d4dc-4c1d-b031-234d5ba7a0b2",
   "metadata": {},
   "source": [
    "#### Bonus 4\n",
    "\n",
    "Utilisez d'autres algorithmes non-linéaires."
   ]
  },
  {
   "cell_type": "code",
   "execution_count": null,
   "id": "6bca75d9-2f70-4aa1-8a6b-1d528bfbe57c",
   "metadata": {},
   "outputs": [],
   "source": []
  }
 ],
 "metadata": {
  "kernelspec": {
   "display_name": "Python 3 (ipykernel)",
   "language": "python",
   "name": "python3"
  },
  "language_info": {
   "codemirror_mode": {
    "name": "ipython",
    "version": 3
   },
   "file_extension": ".py",
   "mimetype": "text/x-python",
   "name": "python",
   "nbconvert_exporter": "python",
   "pygments_lexer": "ipython3",
   "version": "3.11.4"
  }
 },
 "nbformat": 4,
 "nbformat_minor": 5
}
